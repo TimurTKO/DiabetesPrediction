{
 "cells": [
  {
   "cell_type": "code",
   "execution_count": 1,
   "id": "initial_id",
   "metadata": {
    "collapsed": true,
    "ExecuteTime": {
     "end_time": "2024-02-01T16:08:45.023022300Z",
     "start_time": "2024-02-01T16:08:44.016234900Z"
    }
   },
   "outputs": [],
   "source": [
    "import pandas as pd\n",
    "import numpy as np\n",
    "import matplotlib.pyplot as plt\n",
    "from sklearn.impute import SimpleImputer\n",
    "from sklearn.preprocessing import StandardScaler\n",
    "from sklearn.model_selection import train_test_split, cross_val_score\n",
    "from sklearn.preprocessing import OneHotEncoder\n",
    "from sklearn.linear_model import LogisticRegression\n",
    "from sklearn.linear_model import LinearRegression, Lasso, Ridge, ElasticNet\n",
    "import sklearn\n",
    "sklearn.set_config(transform_output=\"pandas\")\n",
    "from sklearn.utils import compute_sample_weight\n",
    "#\n",
    "from sklearn.metrics import precision_recall_curve\n",
    "from sklearn.metrics import precision_score\n",
    "from sklearn.metrics import recall_score\n",
    "from sklearn.metrics import f1_score\n",
    "from sklearn.metrics import confusion_matrix\n",
    "from sklearn.linear_model import Ridge\n",
    "from sklearn import metrics\n",
    "from sklearn.metrics import accuracy_score\n",
    "from sklearn.base import BaseEstimator, TransformerMixin\n",
    "import seaborn as sns\n",
    "\n",
    "\n",
    "from sklearn.tree import DecisionTreeClassifier\n",
    "from sklearn.tree import plot_tree\n",
    "\n",
    "from sklearn.ensemble import RandomForestClassifier\n",
    "from sklearn.datasets import make_classification\n",
    "\n",
    "from sklearn.neighbors import KNeighborsClassifier\n",
    "\n",
    "from sklearn.preprocessing import RobustScaler\n",
    "\n",
    "from sklearn.cluster import KMeans\n",
    "\n",
    "from sklearn.ensemble import GradientBoostingClassifier\n",
    "\n",
    "from sklearn.svm import SVC\n",
    "\n",
    "import xgboost as xgb\n",
    "from xgboost import XGBRegressor, XGBClassifier\n",
    "\n",
    "from sklearn.pipeline import Pipeline\n",
    "\n",
    "from sklearn.compose import ColumnTransformer\n",
    "\n",
    "import optuna\n",
    "\n",
    "import mlflow\n",
    "\n",
    "import warnings\n",
    "\n",
    "warnings.simplefilter('ignore')\n",
    "\n",
    "import joblib\n",
    "\n",
    "from joblib import dump, load\n",
    "\n",
    "import requests\n",
    "\n",
    "client = mlflow.MlflowClient(tracking_uri=\"http://127.0.0.1:8084\")\n",
    "\n",
    "mlflow.set_tracking_uri(\"http://127.0.0.1:8084\")\n",
    "\n",
    "import requests\n",
    "\n",
    "from sklearn import impute\n",
    "\n",
    "from sklearn.impute import KNNImputer\n",
    "\n",
    "from sklearn.experimental import enable_iterative_imputer\n",
    "\n",
    "from sklearn.impute import IterativeImputer\n",
    "\n",
    "from imblearn.over_sampling import SMOTE\n",
    "\n",
    "from imblearn.pipeline import Pipeline\n",
    "\n",
    "from sklearn.preprocessing import LabelEncoder"
   ]
  },
  {
   "cell_type": "code",
   "outputs": [],
   "source": [
    "data = pd.read_csv('diabetes_prediction_dataset.csv')"
   ],
   "metadata": {
    "collapsed": false,
    "ExecuteTime": {
     "end_time": "2024-02-01T16:09:02.619827200Z",
     "start_time": "2024-02-01T16:09:02.563198200Z"
    }
   },
   "id": "2e64b7a8671dbe3e",
   "execution_count": 2
  },
  {
   "cell_type": "code",
   "outputs": [
    {
     "data": {
      "text/plain": "       gender   age  hypertension  heart_disease smoking_history    bmi  \\\n0      Female  80.0             0              1           never  25.19   \n1      Female  54.0             0              0         No Info  27.32   \n2        Male  28.0             0              0           never  27.32   \n3      Female  36.0             0              0         current  23.45   \n4        Male  76.0             1              1         current  20.14   \n...       ...   ...           ...            ...             ...    ...   \n99995  Female  80.0             0              0         No Info  27.32   \n99996  Female   2.0             0              0         No Info  17.37   \n99997    Male  66.0             0              0          former  27.83   \n99998  Female  24.0             0              0           never  35.42   \n99999  Female  57.0             0              0         current  22.43   \n\n       HbA1c_level  blood_glucose_level  diabetes  \n0              6.6                  140         0  \n1              6.6                   80         0  \n2              5.7                  158         0  \n3              5.0                  155         0  \n4              4.8                  155         0  \n...            ...                  ...       ...  \n99995          6.2                   90         0  \n99996          6.5                  100         0  \n99997          5.7                  155         0  \n99998          4.0                  100         0  \n99999          6.6                   90         0  \n\n[100000 rows x 9 columns]",
      "text/html": "<div>\n<style scoped>\n    .dataframe tbody tr th:only-of-type {\n        vertical-align: middle;\n    }\n\n    .dataframe tbody tr th {\n        vertical-align: top;\n    }\n\n    .dataframe thead th {\n        text-align: right;\n    }\n</style>\n<table border=\"1\" class=\"dataframe\">\n  <thead>\n    <tr style=\"text-align: right;\">\n      <th></th>\n      <th>gender</th>\n      <th>age</th>\n      <th>hypertension</th>\n      <th>heart_disease</th>\n      <th>smoking_history</th>\n      <th>bmi</th>\n      <th>HbA1c_level</th>\n      <th>blood_glucose_level</th>\n      <th>diabetes</th>\n    </tr>\n  </thead>\n  <tbody>\n    <tr>\n      <th>0</th>\n      <td>Female</td>\n      <td>80.0</td>\n      <td>0</td>\n      <td>1</td>\n      <td>never</td>\n      <td>25.19</td>\n      <td>6.6</td>\n      <td>140</td>\n      <td>0</td>\n    </tr>\n    <tr>\n      <th>1</th>\n      <td>Female</td>\n      <td>54.0</td>\n      <td>0</td>\n      <td>0</td>\n      <td>No Info</td>\n      <td>27.32</td>\n      <td>6.6</td>\n      <td>80</td>\n      <td>0</td>\n    </tr>\n    <tr>\n      <th>2</th>\n      <td>Male</td>\n      <td>28.0</td>\n      <td>0</td>\n      <td>0</td>\n      <td>never</td>\n      <td>27.32</td>\n      <td>5.7</td>\n      <td>158</td>\n      <td>0</td>\n    </tr>\n    <tr>\n      <th>3</th>\n      <td>Female</td>\n      <td>36.0</td>\n      <td>0</td>\n      <td>0</td>\n      <td>current</td>\n      <td>23.45</td>\n      <td>5.0</td>\n      <td>155</td>\n      <td>0</td>\n    </tr>\n    <tr>\n      <th>4</th>\n      <td>Male</td>\n      <td>76.0</td>\n      <td>1</td>\n      <td>1</td>\n      <td>current</td>\n      <td>20.14</td>\n      <td>4.8</td>\n      <td>155</td>\n      <td>0</td>\n    </tr>\n    <tr>\n      <th>...</th>\n      <td>...</td>\n      <td>...</td>\n      <td>...</td>\n      <td>...</td>\n      <td>...</td>\n      <td>...</td>\n      <td>...</td>\n      <td>...</td>\n      <td>...</td>\n    </tr>\n    <tr>\n      <th>99995</th>\n      <td>Female</td>\n      <td>80.0</td>\n      <td>0</td>\n      <td>0</td>\n      <td>No Info</td>\n      <td>27.32</td>\n      <td>6.2</td>\n      <td>90</td>\n      <td>0</td>\n    </tr>\n    <tr>\n      <th>99996</th>\n      <td>Female</td>\n      <td>2.0</td>\n      <td>0</td>\n      <td>0</td>\n      <td>No Info</td>\n      <td>17.37</td>\n      <td>6.5</td>\n      <td>100</td>\n      <td>0</td>\n    </tr>\n    <tr>\n      <th>99997</th>\n      <td>Male</td>\n      <td>66.0</td>\n      <td>0</td>\n      <td>0</td>\n      <td>former</td>\n      <td>27.83</td>\n      <td>5.7</td>\n      <td>155</td>\n      <td>0</td>\n    </tr>\n    <tr>\n      <th>99998</th>\n      <td>Female</td>\n      <td>24.0</td>\n      <td>0</td>\n      <td>0</td>\n      <td>never</td>\n      <td>35.42</td>\n      <td>4.0</td>\n      <td>100</td>\n      <td>0</td>\n    </tr>\n    <tr>\n      <th>99999</th>\n      <td>Female</td>\n      <td>57.0</td>\n      <td>0</td>\n      <td>0</td>\n      <td>current</td>\n      <td>22.43</td>\n      <td>6.6</td>\n      <td>90</td>\n      <td>0</td>\n    </tr>\n  </tbody>\n</table>\n<p>100000 rows × 9 columns</p>\n</div>"
     },
     "execution_count": 3,
     "metadata": {},
     "output_type": "execute_result"
    }
   ],
   "source": [
    "data"
   ],
   "metadata": {
    "collapsed": false,
    "ExecuteTime": {
     "end_time": "2024-02-01T16:09:05.421241100Z",
     "start_time": "2024-02-01T16:09:05.396006500Z"
    }
   },
   "id": "5abd17dfac1e6222",
   "execution_count": 3
  },
  {
   "cell_type": "code",
   "outputs": [
    {
     "name": "stdout",
     "output_type": "stream",
     "text": [
      "<class 'pandas.core.frame.DataFrame'>\n",
      "RangeIndex: 100000 entries, 0 to 99999\n",
      "Data columns (total 9 columns):\n",
      " #   Column               Non-Null Count   Dtype  \n",
      "---  ------               --------------   -----  \n",
      " 0   gender               100000 non-null  object \n",
      " 1   age                  100000 non-null  float64\n",
      " 2   hypertension         100000 non-null  int64  \n",
      " 3   heart_disease        100000 non-null  int64  \n",
      " 4   smoking_history      100000 non-null  object \n",
      " 5   bmi                  100000 non-null  float64\n",
      " 6   HbA1c_level          100000 non-null  float64\n",
      " 7   blood_glucose_level  100000 non-null  int64  \n",
      " 8   diabetes             100000 non-null  int64  \n",
      "dtypes: float64(3), int64(4), object(2)\n",
      "memory usage: 6.9+ MB\n"
     ]
    }
   ],
   "source": [
    "data.info()"
   ],
   "metadata": {
    "collapsed": false,
    "ExecuteTime": {
     "end_time": "2024-02-01T16:09:12.565958400Z",
     "start_time": "2024-02-01T16:09:12.542604100Z"
    }
   },
   "id": "1abe519ee6408f5d",
   "execution_count": 4
  },
  {
   "cell_type": "code",
   "outputs": [
    {
     "data": {
      "text/plain": "0        0\n1        0\n2        0\n3        0\n4        0\n        ..\n99995    0\n99996    0\n99997    0\n99998    0\n99999    0\nName: diabetes, Length: 100000, dtype: int64"
     },
     "execution_count": 6,
     "metadata": {},
     "output_type": "execute_result"
    }
   ],
   "source": [
    "y = data['diabetes']\n",
    "y"
   ],
   "metadata": {
    "collapsed": false,
    "ExecuteTime": {
     "end_time": "2024-02-01T16:11:14.496161400Z",
     "start_time": "2024-02-01T16:11:14.483659700Z"
    }
   },
   "id": "c859a175985a2717",
   "execution_count": 6
  },
  {
   "cell_type": "code",
   "outputs": [
    {
     "data": {
      "text/plain": "       gender   age  hypertension  heart_disease smoking_history    bmi  \\\n0      Female  80.0             0              1           never  25.19   \n1      Female  54.0             0              0         No Info  27.32   \n2        Male  28.0             0              0           never  27.32   \n3      Female  36.0             0              0         current  23.45   \n4        Male  76.0             1              1         current  20.14   \n...       ...   ...           ...            ...             ...    ...   \n99995  Female  80.0             0              0         No Info  27.32   \n99996  Female   2.0             0              0         No Info  17.37   \n99997    Male  66.0             0              0          former  27.83   \n99998  Female  24.0             0              0           never  35.42   \n99999  Female  57.0             0              0         current  22.43   \n\n       HbA1c_level  blood_glucose_level  \n0              6.6                  140  \n1              6.6                   80  \n2              5.7                  158  \n3              5.0                  155  \n4              4.8                  155  \n...            ...                  ...  \n99995          6.2                   90  \n99996          6.5                  100  \n99997          5.7                  155  \n99998          4.0                  100  \n99999          6.6                   90  \n\n[100000 rows x 8 columns]",
      "text/html": "<div>\n<style scoped>\n    .dataframe tbody tr th:only-of-type {\n        vertical-align: middle;\n    }\n\n    .dataframe tbody tr th {\n        vertical-align: top;\n    }\n\n    .dataframe thead th {\n        text-align: right;\n    }\n</style>\n<table border=\"1\" class=\"dataframe\">\n  <thead>\n    <tr style=\"text-align: right;\">\n      <th></th>\n      <th>gender</th>\n      <th>age</th>\n      <th>hypertension</th>\n      <th>heart_disease</th>\n      <th>smoking_history</th>\n      <th>bmi</th>\n      <th>HbA1c_level</th>\n      <th>blood_glucose_level</th>\n    </tr>\n  </thead>\n  <tbody>\n    <tr>\n      <th>0</th>\n      <td>Female</td>\n      <td>80.0</td>\n      <td>0</td>\n      <td>1</td>\n      <td>never</td>\n      <td>25.19</td>\n      <td>6.6</td>\n      <td>140</td>\n    </tr>\n    <tr>\n      <th>1</th>\n      <td>Female</td>\n      <td>54.0</td>\n      <td>0</td>\n      <td>0</td>\n      <td>No Info</td>\n      <td>27.32</td>\n      <td>6.6</td>\n      <td>80</td>\n    </tr>\n    <tr>\n      <th>2</th>\n      <td>Male</td>\n      <td>28.0</td>\n      <td>0</td>\n      <td>0</td>\n      <td>never</td>\n      <td>27.32</td>\n      <td>5.7</td>\n      <td>158</td>\n    </tr>\n    <tr>\n      <th>3</th>\n      <td>Female</td>\n      <td>36.0</td>\n      <td>0</td>\n      <td>0</td>\n      <td>current</td>\n      <td>23.45</td>\n      <td>5.0</td>\n      <td>155</td>\n    </tr>\n    <tr>\n      <th>4</th>\n      <td>Male</td>\n      <td>76.0</td>\n      <td>1</td>\n      <td>1</td>\n      <td>current</td>\n      <td>20.14</td>\n      <td>4.8</td>\n      <td>155</td>\n    </tr>\n    <tr>\n      <th>...</th>\n      <td>...</td>\n      <td>...</td>\n      <td>...</td>\n      <td>...</td>\n      <td>...</td>\n      <td>...</td>\n      <td>...</td>\n      <td>...</td>\n    </tr>\n    <tr>\n      <th>99995</th>\n      <td>Female</td>\n      <td>80.0</td>\n      <td>0</td>\n      <td>0</td>\n      <td>No Info</td>\n      <td>27.32</td>\n      <td>6.2</td>\n      <td>90</td>\n    </tr>\n    <tr>\n      <th>99996</th>\n      <td>Female</td>\n      <td>2.0</td>\n      <td>0</td>\n      <td>0</td>\n      <td>No Info</td>\n      <td>17.37</td>\n      <td>6.5</td>\n      <td>100</td>\n    </tr>\n    <tr>\n      <th>99997</th>\n      <td>Male</td>\n      <td>66.0</td>\n      <td>0</td>\n      <td>0</td>\n      <td>former</td>\n      <td>27.83</td>\n      <td>5.7</td>\n      <td>155</td>\n    </tr>\n    <tr>\n      <th>99998</th>\n      <td>Female</td>\n      <td>24.0</td>\n      <td>0</td>\n      <td>0</td>\n      <td>never</td>\n      <td>35.42</td>\n      <td>4.0</td>\n      <td>100</td>\n    </tr>\n    <tr>\n      <th>99999</th>\n      <td>Female</td>\n      <td>57.0</td>\n      <td>0</td>\n      <td>0</td>\n      <td>current</td>\n      <td>22.43</td>\n      <td>6.6</td>\n      <td>90</td>\n    </tr>\n  </tbody>\n</table>\n<p>100000 rows × 8 columns</p>\n</div>"
     },
     "execution_count": 7,
     "metadata": {},
     "output_type": "execute_result"
    }
   ],
   "source": [
    "X = data.drop(['diabetes'], axis=1)\n",
    "X"
   ],
   "metadata": {
    "collapsed": false,
    "ExecuteTime": {
     "end_time": "2024-02-01T16:11:15.166843300Z",
     "start_time": "2024-02-01T16:11:15.147843200Z"
    }
   },
   "id": "33f7975432be3223",
   "execution_count": 7
  },
  {
   "cell_type": "code",
   "outputs": [],
   "source": [
    "X_train, X_test, y_train, y_test = train_test_split(X, y, test_size=0.2)"
   ],
   "metadata": {
    "collapsed": false,
    "ExecuteTime": {
     "end_time": "2024-02-01T16:11:34.303775600Z",
     "start_time": "2024-02-01T16:11:34.278049300Z"
    }
   },
   "id": "b48f8b0c50b6e249",
   "execution_count": 8
  },
  {
   "cell_type": "code",
   "outputs": [
    {
     "data": {
      "text/plain": "<seaborn.axisgrid.FacetGrid at 0x1665a3284f0>"
     },
     "execution_count": 9,
     "metadata": {},
     "output_type": "execute_result"
    },
    {
     "data": {
      "text/plain": "<Figure size 2063.74x1400 with 1 Axes>",
      "image/png": "[encoded data removed]"
     },
     "metadata": {},
     "output_type": "display_data"
    }
   ],
   "source": [
    "#  Added Violin\n",
    "df_for_sns = pd.concat([X_train,pd.DataFrame(y_train)], axis=1)\n",
    "sns.catplot(\n",
    "    data=df_for_sns, hue=\"diabetes\", x=\"gender\",\n",
    "    kind=\"violin\", bw_adjust=.5, cut=0, split=True, height=14, aspect=20/14\n",
    ")"
   ],
   "metadata": {
    "collapsed": false,
    "ExecuteTime": {
     "end_time": "2024-02-01T16:11:56.730037500Z",
     "start_time": "2024-02-01T16:11:56.274362700Z"
    }
   },
   "id": "b6c42289539008ee",
   "execution_count": 9
  },
  {
   "cell_type": "code",
   "outputs": [
    {
     "data": {
      "text/plain": "['age',\n 'hypertension',\n 'heart_disease',\n 'bmi',\n 'HbA1c_level',\n 'blood_glucose_level']"
     },
     "execution_count": 10,
     "metadata": {},
     "output_type": "execute_result"
    }
   ],
   "source": [
    "num_cols= list(X_train.select_dtypes(exclude=['object']).columns)\n",
    "num_cols"
   ],
   "metadata": {
    "collapsed": false,
    "ExecuteTime": {
     "end_time": "2024-02-01T16:12:13.826084800Z",
     "start_time": "2024-02-01T16:12:13.803472300Z"
    }
   },
   "id": "931f585d55a6d382",
   "execution_count": 10
  },
  {
   "cell_type": "code",
   "outputs": [
    {
     "data": {
      "text/plain": "['gender', 'smoking_history']"
     },
     "execution_count": 11,
     "metadata": {},
     "output_type": "execute_result"
    }
   ],
   "source": [
    "cat_cols = list(X_train.select_dtypes(include=['object']).columns)\n",
    "cat_cols"
   ],
   "metadata": {
    "collapsed": false,
    "ExecuteTime": {
     "end_time": "2024-02-01T16:12:22.740512400Z",
     "start_time": "2024-02-01T16:12:22.709487900Z"
    }
   },
   "id": "44cacf5736f93b31",
   "execution_count": 11
  },
  {
   "cell_type": "code",
   "outputs": [],
   "source": [
    "model = XGBClassifier()"
   ],
   "metadata": {
    "collapsed": false,
    "ExecuteTime": {
     "end_time": "2024-02-01T16:12:32.120028800Z",
     "start_time": "2024-02-01T16:12:32.105845800Z"
    }
   },
   "id": "d93121e2b352b821",
   "execution_count": 12
  },
  {
   "cell_type": "code",
   "outputs": [],
   "source": [
    "# write a pipline for the model with smote\n",
    "\n",
    "\n",
    "numerical = Pipeline(steps=[\n",
    "    (\"simple_imputer\", SimpleImputer()),\n",
    "    #(\"Imputer\", KNNImputer()),\n",
    "    #(\"SMOTE\", SMOTE(sampling_strategy=desired_minority_ratio)),\n",
    "    ('Scaler', StandardScaler())\n",
    "])\n",
    "\n",
    "categorical = Pipeline(steps=[\n",
    "    (\"simple_imputer\", SimpleImputer(strategy='constant')),\n",
    "    (\"OneHotEncoder\", OneHotEncoder(handle_unknown='ignore', #drop=['first', 'if_binary'],\n",
    "                                    sparse_output=False))\n",
    "])\n",
    "\n",
    "ct = ColumnTransformer([\n",
    "    (\"numerical\", numerical, num_cols),\n",
    "    (\"categorical\", categorical, cat_cols)\n",
    "], remainder = 'passthrough')\n",
    "\n",
    "\n",
    "pipe = Pipeline(steps=[\n",
    "    (\"ct\", ct),\n",
    "    (\"SMOTE\", SMOTE()),\n",
    "    (\"Imputer\", KNNImputer()),\n",
    "    (\"XGBClassifier\", XGBClassifier())\n",
    "])"
   ],
   "metadata": {
    "collapsed": false,
    "ExecuteTime": {
     "end_time": "2024-02-01T16:12:52.833985900Z",
     "start_time": "2024-02-01T16:12:52.823987700Z"
    }
   },
   "id": "5084d47a9c430374",
   "execution_count": 13
  },
  {
   "cell_type": "code",
   "outputs": [],
   "source": [
    "counter = 0"
   ],
   "metadata": {
    "collapsed": false,
    "ExecuteTime": {
     "end_time": "2024-02-01T16:13:00.775600300Z",
     "start_time": "2024-02-01T16:13:00.756607Z"
    }
   },
   "id": "2b3e9cb9bd9b3c86",
   "execution_count": 14
  },
  {
   "cell_type": "code",
   "outputs": [
    {
     "name": "stderr",
     "output_type": "stream",
     "text": [
      "[I 2024-02-01 19:13:12,408] A new study created in memory with name: no-name-39c9a031-e8e5-4977-af31-f33e654052c7\n",
      "[I 2024-02-01 19:13:13,991] Trial 0 finished with value: 0.7737133334416165 and parameters: {'Imputer': 'simple_imputer', 'XGBClassifier__n_estimators': 15, 'XGBClassifier__learning_rate': 0.011045814084609995, 'XGBClassifier__max_depth': 8, 'XGBClassifier__gamma': 1}. Best is trial 0 with value: 0.7737133334416165.\n",
      "[I 2024-02-01 19:13:15,585] Trial 1 finished with value: 0.7845788415145989 and parameters: {'Imputer': 'simple_imputer', 'XGBClassifier__n_estimators': 19, 'XGBClassifier__learning_rate': 0.06024366953103378, 'XGBClassifier__max_depth': 8, 'XGBClassifier__gamma': 3}. Best is trial 1 with value: 0.7845788415145989.\n",
      "[I 2024-02-01 19:13:17,066] Trial 2 finished with value: 0.7897242338103589 and parameters: {'Imputer': 'simple_imputer', 'XGBClassifier__n_estimators': 6, 'XGBClassifier__learning_rate': 0.0676361169659018, 'XGBClassifier__max_depth': 10, 'XGBClassifier__gamma': 3}. Best is trial 2 with value: 0.7897242338103589.\n",
      "[I 2024-02-01 19:13:21,457] Trial 3 finished with value: 0.76178822180849 and parameters: {'Imputer': 'IterativeImputer', 'XGBClassifier__n_estimators': 39, 'XGBClassifier__learning_rate': 0.06931062587852513, 'XGBClassifier__max_depth': 5, 'XGBClassifier__gamma': 2}. Best is trial 2 with value: 0.7897242338103589.\n",
      "[I 2024-02-01 19:13:26,158] Trial 4 finished with value: 0.7645520833339639 and parameters: {'Imputer': 'IterativeImputer', 'XGBClassifier__n_estimators': 31, 'XGBClassifier__learning_rate': 0.011194351728138213, 'XGBClassifier__max_depth': 7, 'XGBClassifier__gamma': 3}. Best is trial 2 with value: 0.7897242338103589.\n",
      "[I 2024-02-01 19:13:27,973] Trial 5 finished with value: 0.8252354466562482 and parameters: {'Imputer': 'KNNImputer', 'XGBClassifier__n_estimators': 46, 'XGBClassifier__learning_rate': 0.08106327358180776, 'XGBClassifier__max_depth': 7, 'XGBClassifier__gamma': 2}. Best is trial 5 with value: 0.8252354466562482.\n",
      "[I 2024-02-01 19:13:33,027] Trial 6 finished with value: 0.8598714188617402 and parameters: {'Imputer': 'IterativeImputer', 'XGBClassifier__n_estimators': 37, 'XGBClassifier__learning_rate': 0.06705558492406755, 'XGBClassifier__max_depth': 12, 'XGBClassifier__gamma': 2}. Best is trial 6 with value: 0.8598714188617402.\n",
      "[I 2024-02-01 19:13:34,569] Trial 7 finished with value: 0.7831779374101384 and parameters: {'Imputer': 'simple_imputer', 'XGBClassifier__n_estimators': 14, 'XGBClassifier__learning_rate': 0.0717312897077482, 'XGBClassifier__max_depth': 8, 'XGBClassifier__gamma': 4}. Best is trial 6 with value: 0.8598714188617402.\n",
      "[I 2024-02-01 19:13:36,071] Trial 8 finished with value: 0.776683412695198 and parameters: {'Imputer': 'KNNImputer', 'XGBClassifier__n_estimators': 9, 'XGBClassifier__learning_rate': 0.010895426234945946, 'XGBClassifier__max_depth': 9, 'XGBClassifier__gamma': 4}. Best is trial 6 with value: 0.8598714188617402.\n",
      "[I 2024-02-01 19:13:37,674] Trial 9 finished with value: 0.7407429007110524 and parameters: {'Imputer': 'simple_imputer', 'XGBClassifier__n_estimators': 26, 'XGBClassifier__learning_rate': 0.061227164155569974, 'XGBClassifier__max_depth': 5, 'XGBClassifier__gamma': 1}. Best is trial 6 with value: 0.8598714188617402.\n"
     ]
    }
   ],
   "source": [
    "counter += 1\n",
    "def gridsearch_replacment(trial):\n",
    "    list_of_imputers = ['simple_imputer', 'KNNImputer', 'IterativeImputer']\n",
    "    list_of_imputer_object = [SimpleImputer(), KNNImputer(), IterativeImputer()]\n",
    "    imputer_name = trial.suggest_categorical('Imputer', list_of_imputers)\n",
    "    pipe.set_params(**{'Imputer': list_of_imputer_object[list_of_imputers.index(imputer_name)]})\n",
    "\n",
    "    #print(imputer_name)\n",
    "    params = {\n",
    "        'XGBClassifier__n_estimators': trial.suggest_int('XGBClassifier__n_estimators', 1, 50) ,\n",
    "        'XGBClassifier__learning_rate': trial.suggest_float('XGBClassifier__learning_rate', 0.01, 0.1),\n",
    "        'XGBClassifier__max_depth': trial.suggest_int('XGBClassifier__max_depth', 5, 12),\n",
    "        'XGBClassifier__gamma': trial.suggest_int('XGBClassifier__gamma', 1, 4),\n",
    "\n",
    "    }\n",
    "\n",
    "    pipe.set_params(**params)\n",
    "    #score = cross_val_score(pipe, X_train, y_train, cv=5, scoring = make_scorer(f1_score, average='macro')).mean()\n",
    "    score = cross_val_score(pipe, X_train, y_train, cv=5, scoring = 'f1_macro').mean()\n",
    "    return score\n",
    "\n",
    "study = optuna.create_study(direction='maximize')\n",
    "study.optimize(gridsearch_replacment, n_trials=10)"
   ],
   "metadata": {
    "collapsed": false,
    "ExecuteTime": {
     "end_time": "2024-02-01T16:13:37.682940200Z",
     "start_time": "2024-02-01T16:13:12.410882800Z"
    }
   },
   "id": "78153da6fb8a3e9c",
   "execution_count": 15
  },
  {
   "cell_type": "code",
   "outputs": [
    {
     "data": {
      "text/plain": "0.8598714188617402"
     },
     "execution_count": 16,
     "metadata": {},
     "output_type": "execute_result"
    }
   ],
   "source": [
    "study.best_value"
   ],
   "metadata": {
    "collapsed": false,
    "ExecuteTime": {
     "end_time": "2024-02-01T16:18:50.686956100Z",
     "start_time": "2024-02-01T16:18:50.679931200Z"
    }
   },
   "id": "653cdf80e687eb7f",
   "execution_count": 16
  },
  {
   "cell_type": "code",
   "outputs": [],
   "source": [
    "# create a pipline \n"
   ],
   "metadata": {
    "collapsed": false
   },
   "id": "c5958871e98e1119"
  }
 ],
 "metadata": {
  "kernelspec": {
   "display_name": "Python 3",
   "language": "python",
   "name": "python3"
  },
  "language_info": {
   "codemirror_mode": {
    "name": "ipython",
    "version": 2
   },
   "file_extension": ".py",
   "mimetype": "text/x-python",
   "name": "python",
   "nbconvert_exporter": "python",
   "pygments_lexer": "ipython2",
   "version": "2.7.6"
  }
 },
 "nbformat": 4,
 "nbformat_minor": 5
}
